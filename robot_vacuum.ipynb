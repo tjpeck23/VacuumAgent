{
 "cells": [
  {
   "cell_type": "markdown",
   "metadata": {
    "id": "sARm4xH6CoPS"
   },
   "source": [
    "# Intelligent Agents: Reflex-Based Agents for the Vacuum-cleaner World\n",
    "\n",
    "Student Name: Travis Peck\n",
    "\n",
    "I have used the following AI tools: None\n",
    "\n",
    "I understand that my submission needs to be my own work: TP\n",
    "\n",
    "## Instructions\n",
    "\n",
    "Total Points: Undergrads 100 + 5 bonus / Graduate students 110\n",
    "\n",
    "Complete this notebook. Use the provided notebook cells and insert additional code and markdown cells as needed. Submit the completely rendered notebook as a HTML file.\n",
    "\n",
    "In Visual Studio Code: Use Export (click on ... in the menu bar) to save your notebook as a HTML file.\n",
    "\n",
    "In Colab you need to save the notebook on GoogleDrive and then add the following block\n",
    "```\n",
    "!pip install nbconvert\n",
    "\n",
    "from google.colab import drive\n",
    "drive.mount('/content/drive')\n",
    "!jupyter nbconvert --to html /content/drive/MyDrive/Colab\\ Notebooks/Copy\\ of\\ robot_vacuum.ipynb\n",
    "```\n",
    "\n",
    "You will need to fix the file location on your GoogleDrive.\n",
    "\n",
    "## Introduction\n",
    "\n",
    "In this assignment you will implement a simulator environment for an automatic vacuum cleaner robot, a set of different reflex-based agent programs, and perform a comparison study for cleaning a single room. Focus on the __cleaning phase__ which starts when the robot is activated and ends when the last dirty square in the room has been cleaned. Someone else will take care of the agent program needed to navigate back to the charging station after the room is clean.\n",
    "\n",
    "## PEAS description of the cleaning phase\n",
    "\n",
    "__Performance Measure:__ Each action costs 1 energy unit. The performance is measured as the sum of the energy units used to clean the whole room.\n",
    "\n",
    "__Environment:__ A room with $n \\times n$ squares where $n = 5$. Dirt is randomly placed on each square with probability $p = 0.2$. For simplicity, you can assume that the agent knows the size and the layout of the room (i.e., it knows $n$). To start, the agent is placed on a random square.\n",
    "\n",
    "__Actuators:__ The agent can clean the current square (action `suck`) or move to an adjacent square by going `north`, `east`, `south`, or `west`.\n",
    "\n",
    "__Sensors:__ Four bumper sensors, one for north, east, south, and west; a dirt sensor reporting dirt in the current square.  \n",
    "\n",
    "\n",
    "## The agent program for a simple randomized agent\n",
    "\n",
    "The agent program is a function that gets sensor information (the current percepts) as the arguments. The arguments are:\n",
    "\n",
    "* A dictionary with boolean entries for the for bumper sensors `north`, `east`, `west`, `south`. E.g., if the agent is on the north-west corner, `bumpers` will be `{\"north\" : True, \"east\" : False, \"south\" : False, \"west\" : True}`.\n",
    "* The dirt sensor produces a boolean.\n",
    "\n",
    "The agent returns the chosen action as a string.\n",
    "\n",
    "Here is an example implementation for the agent program of a simple randomized agent:  "
   ]
  },
  {
   "cell_type": "code",
   "execution_count": 1,
   "metadata": {
    "id": "S6MGIxEECoPT"
   },
   "outputs": [],
   "source": [
    "import numpy as np\n",
    "\n",
    "actions = [\"north\", \"east\", \"west\", \"south\", \"suck\"]\n",
    "\n",
    "def simple_randomized_agent(bumpers, dirty):\n",
    "    return np.random.choice(actions)"
   ]
  },
  {
   "cell_type": "code",
   "execution_count": 2,
   "metadata": {
    "id": "W2_-8PpECoPT",
    "outputId": "d65deb7b-fa0a-4722-8034-b18033dea1e9"
   },
   "outputs": [
    {
     "data": {
      "text/plain": [
       "'south'"
      ]
     },
     "execution_count": 2,
     "metadata": {},
     "output_type": "execute_result"
    }
   ],
   "source": [
    "# define percepts (current location is NW corner and it is dirty)\n",
    "bumpers = {\"north\" : True, \"east\" : False, \"south\" : False, \"west\" : True}\n",
    "dirty = True\n",
    "\n",
    "# call agent program function with percepts and it returns an action\n",
    "simple_randomized_agent(bumpers, dirty)"
   ]
  },
  {
   "cell_type": "markdown",
   "metadata": {
    "id": "outP1FxpCoPU"
   },
   "source": [
    "__Note:__ This is not a rational intelligent agent. It ignores its sensors and may bump into a wall repeatedly or not clean a dirty square. You will be asked to implement rational agents below."
   ]
  },
  {
   "cell_type": "markdown",
   "metadata": {
    "id": "c9gAyWpnCoPU"
   },
   "source": [
    "## Simple environment example\n",
    "\n",
    "We implement a simple simulation environment that supplies the agent with its percepts.\n",
    "The simple environment is infinite in size (bumpers are always `False`) and every square is always dirty, even if the agent cleans it. The environment function returns a performance measure which is here the number of cleaned squares (since the room is infinite and all squares are constantly dirty, the agent can never clean the whole room as required in the PEAS description above). The energy budget of the agent is specified as `max_steps`."
   ]
  },
  {
   "cell_type": "code",
   "execution_count": null,
   "metadata": {
    "id": "J5X4FKnZCoPU"
   },
   "outputs": [],
   "source": [
    "def simple_environment(agent, max_steps, verbose = True):\n",
    "    num_cleaned = 0\n",
    "\n",
    "    for i in range(max_steps):\n",
    "        dirty = True\n",
    "        bumpers = {\"north\" : False, \"south\" : False, \"west\" : False, \"east\" : False}\n",
    "\n",
    "        action = agent(bumpers, dirty)\n",
    "        if (verbose): print(\"step\", i , \"- action:\", action)\n",
    "\n",
    "        if (action == \"suck\"):\n",
    "            num_cleaned = num_cleaned + 1\n",
    "\n",
    "    return num_cleaned\n",
    "\n"
   ]
  },
  {
   "cell_type": "markdown",
   "metadata": {
    "id": "rWF-qUFuCoPV"
   },
   "source": [
    "Do one simulation run with a simple randomized agent that has enough energy for 20 steps."
   ]
  },
  {
   "cell_type": "code",
   "execution_count": null,
   "metadata": {
    "id": "dmpkljRxCoPV",
    "outputId": "c24be69a-ddac-47c2-b5ed-342c03bf63a2"
   },
   "outputs": [],
   "source": [
    "simple_environment(simple_randomized_agent, max_steps = 20)"
   ]
  },
  {
   "cell_type": "markdown",
   "metadata": {
    "id": "yToVZP4NCoPV"
   },
   "source": [
    "# Tasks\n",
    "\n",
    "## General [10 Points]\n",
    "\n",
    "1. Make sure that you use the latest version of this notebook. Sync your forked repository and pull the latest revision.\n",
    "2. Your implementation can use libraries like math, numpy, scipy, but not libraries that implement intelligent agents or complete search algorithms. Try to keep the code simple! In this course, we want to learn about the algorithms and we often do not need to use object-oriented design.\n",
    "3. You notebook needs to be formatted professionally.\n",
    "    - Add additional markdown blocks for your description, comments in the code, add tables and use mathplotlib to produce charts where appropriate\n",
    "    - Do not show debugging output or include an excessive amount of output.\n",
    "    - Check that your PDF file is readable. For example, long lines are cut off in the PDF file. You don't have control over page breaks, so do not worry about these.\n",
    "4. Document your code. Add a short discussion of how your implementation works and your design choices.\n",
    "\n",
    "\n",
    "## Task 1: Implement a simulation environment [20 Points]\n",
    "\n",
    "The simple environment above is not very realistic. Your environment simulator needs to follow the PEAS description from above. It needs to:\n",
    "\n",
    "* Initialize the environment by storing the state of each square (clean/dirty) and making some dirty. ([Help with random numbers and arrays in Python](https://github.com/mhahsler/CS7320-AI/blob/master/HOWTOs/random_numbers_and_arrays.ipynb))\n",
    "* Keep track of the agent's position.\n",
    "* Call the agent function repeatedly and provide the agent function with the sensor inputs.  \n",
    "* React to the agent's actions. E.g, by removing dirt from a square or moving the agent around unless there is a wall in the way.\n",
    "* Keep track of the performance measure. That is, track the agent's actions until all dirty squares are clean and count the number of actions it takes the agent to complete the task.\n",
    "\n",
    "The easiest implementation for the environment is to hold an 2-dimensional array to represent if squares are clean or dirty and to call the agent function in a loop until all squares are clean or a predefined number of steps have been reached (i.e., the robot runs out of energy).\n",
    "\n",
    "The simulation environment should be a function like the `simple_environment()` and needs to work with the simple randomized agent program from above. **Use the same environment for all your agent implementations in the tasks below.**\n",
    "\n",
    "*Note on debugging:* Debugging is difficult. Make sure your environment prints enough information when you use `verbose = True`. Also, implementing a function that the environment can use to displays the room with dirt and the current position of the robot at every step is very useful.  "
   ]
  },
  {
   "cell_type": "code",
   "execution_count": 15,
   "metadata": {
    "id": "SiVZMBsDCoPV"
   },
   "outputs": [],
   "source": [
    "import numpy as np\n",
    "bumpers = {\"north\" : False, \"south\" : False, \"west\" : False, \"east\" : False}\n",
    "actions=['north', 'east', 'south', 'west']\n",
    "\n",
    "def environment(dim, maxsteps, verbose = True):\n",
    "    \n",
    "    #initializing random number generator\n",
    "    rng = np.random.default_rng()\n",
    "    \n",
    "    #intializing proportion of cleans and dirty\n",
    "    p=.5\n",
    "    \n",
    "    #generating array with values 'dirty' and 'clean' with frequency p\n",
    "    space = rng.choice(['dirty', 'clean'], size=(dim,dim), p=[p, 1-p])\n",
    "    \n",
    "    num_cleaned = 0\n",
    "    \n",
    "    #I set the origin coordinates for the vacuum to be [2][2]\n",
    "    #The coordinates could start anywhere and the model agent would still find the correct location\n",
    "    #x coordinates for the array\n",
    "    x=2\n",
    "    #y coordinates for the array\n",
    "    y=2\n",
    "    \n",
    "    #Commented out neatly printing the original space\n",
    "    print(\"Initial Space\")\n",
    "    print(\"=============\")\n",
    "    print(space)\n",
    "    print()\n",
    "    agent1 = Agent(bumpers)\n",
    "    step=0\n",
    "    \n",
    "    for i in range(maxsteps):\n",
    "            dirty = space[x][y]\n",
    "            \n",
    "            #Commenting out the agents that I am not currently using\n",
    "            #action = simple_randomized_agent(bumpers, dirty)\n",
    "            #action = reflexagent(bumpers, dirty)\n",
    "            action = agent1.act(bumpers, dirty)\n",
    "\n",
    "            if (verbose):\n",
    "                print(\"step\", step, \"- action:\", action)\n",
    "\n",
    "            #First checking if there is any dirt to suck, then sucking that dirt\n",
    "            if action == 'suck':\n",
    "                num_cleaned += 1\n",
    "                space[x][y] = 'clean'\n",
    "                \n",
    "            #Then checking if the movement is valid (we don't run over walls)(this doesn't mean we can't bump into walls)\n",
    "            if action == 'north' and x>=1:\n",
    "                x-=1\n",
    "            if action == 'east' and y<=(dim-2):\n",
    "                y+=1\n",
    "            if action == 'south' and x<=(dim-2):\n",
    "                x+=1\n",
    "            if action == 'west' and y>=1:\n",
    "                y-=1\n",
    "\n",
    "            #Coding the environment to trigger the bumpers if on an edge\n",
    "            if x==0:\n",
    "                bumpers[\"north\"]=True\n",
    "            else:\n",
    "                bumpers[\"north\"]=False\n",
    "            if x==(dim-1):\n",
    "                bumpers[\"south\"]=True\n",
    "            else:\n",
    "                bumpers[\"south\"]=False\n",
    "            if y==0:\n",
    "                bumpers[\"west\"]=True\n",
    "            else:\n",
    "                bumpers[\"west\"]=False\n",
    "            if y==(dim-1):\n",
    "                bumpers[\"east\"]=True\n",
    "            else: \n",
    "                bumpers[\"east\"]=False\n",
    "            step+=1\n",
    "            #If all dirt has been cleaned, return the number of steps it took to make it so\n",
    "            if 'dirty' not in space:\n",
    "                print()\n",
    "                print(\"Resulting Space\")\n",
    "                print(\"===============\")\n",
    "                print(space)\n",
    "                print()\n",
    "                print(\"Final Bumpers\")\n",
    "                print(bumpers)\n",
    "                print()\n",
    "                print(\"How many steps to clean room:\")\n",
    "                print(step)\n",
    "                return step\n",
    "        \n",
    "    #These are simply print statements that I used to neatly display the before/after spaces\n",
    "    print()\n",
    "    print(\"Resulting Space\")\n",
    "    print(\"===============\")\n",
    "    print(space)\n",
    "    print()\n",
    "    print(\"Final Bumpers\")\n",
    "    print(bumpers)\n",
    "    print()\n",
    "    print(\"How many steps to clean room:\")\n",
    "    print(step)\n",
    "    \n",
    "    return step"
   ]
  },
  {
   "cell_type": "markdown",
   "metadata": {
    "id": "rKdSoPrOCoPV"
   },
   "source": [
    "## Task 2:  Implement a simple reflex agent [10 Points]\n",
    "\n",
    "The simple reflex agent randomly walks around but reacts to the bumper sensor by not bumping into the wall and to dirt with sucking. Implement the agent program as a function.\n",
    "\n",
    "_Note:_ Agents cannot directly use variable in the environment. They only gets the percepts as the arguments to the agent function."
   ]
  },
  {
   "cell_type": "code",
   "execution_count": 6,
   "metadata": {
    "id": "WWDaYqH5CoPV"
   },
   "outputs": [],
   "source": [
    "def reflexagent(bumpers, dirty):\n",
    "    actions = ['north', 'east', 'south', 'west']\n",
    "    newaction = list(actions)\n",
    "    \n",
    "    if dirty=='dirty':\n",
    "        action='suck'\n",
    "        return action\n",
    "    if bumpers[\"north\"]==True:\n",
    "        newaction.remove('north')\n",
    "    if bumpers[\"east\"]==True:\n",
    "        newaction.remove('east')\n",
    "    if bumpers[\"south\"]==True:\n",
    "        newaction.remove('south')\n",
    "    if bumpers[\"west\"]==True:\n",
    "        newaction.remove('west')\n",
    "        \n",
    "    action=np.random.choice(newaction)\n",
    "    return action"
   ]
  },
  {
   "cell_type": "code",
   "execution_count": 9,
   "metadata": {},
   "outputs": [
    {
     "name": "stdout",
     "output_type": "stream",
     "text": [
      "Initial Space\n",
      "=============\n",
      "[['clean' 'clean' 'dirty' 'dirty' 'dirty']\n",
      " ['clean' 'clean' 'clean' 'dirty' 'dirty']\n",
      " ['clean' 'dirty' 'clean' 'clean' 'clean']\n",
      " ['clean' 'clean' 'dirty' 'dirty' 'dirty']\n",
      " ['clean' 'clean' 'dirty' 'dirty' 'dirty']]\n",
      "\n",
      "\n",
      "Resulting Space\n",
      "===============\n",
      "[['clean' 'clean' 'dirty' 'clean' 'clean']\n",
      " ['clean' 'clean' 'clean' 'clean' 'clean']\n",
      " ['clean' 'clean' 'clean' 'clean' 'clean']\n",
      " ['clean' 'clean' 'clean' 'clean' 'clean']\n",
      " ['clean' 'clean' 'clean' 'dirty' 'dirty']]\n",
      "\n",
      "Final Bumpers\n",
      "{'north': False, 'south': False, 'west': True, 'east': False}\n",
      "\n",
      "How many steps to clean room:\n",
      "100\n"
     ]
    },
    {
     "data": {
      "text/plain": [
       "100"
      ]
     },
     "execution_count": 9,
     "metadata": {},
     "output_type": "execute_result"
    }
   ],
   "source": [
    "environment(5, 100, verbose=False)"
   ]
  },
  {
   "cell_type": "markdown",
   "metadata": {},
   "source": [
    "Since the steps reached the maximum allowed number of steps, the room was not completely cleaned. The final space printed shows this."
   ]
  },
  {
   "cell_type": "markdown",
   "metadata": {
    "id": "UtSOHG6ACoPV"
   },
   "source": [
    "## Task 3: Implement a model-based reflex agent [20 Points]\n",
    "\n",
    "Model-based agents use a state to keep track of what they have done and perceived so far. Your agent needs to find out where it is located and then keep track of its current location. You also need a set of rules based on the state and the percepts to make sure that the agent will clean the whole room. For example, the agent can move to a corner to determine its location and then it can navigate through the whole room and clean dirty squares.\n",
    "\n",
    "Describe how you define the __agent state__ and how your agent works before implementing it. ([Help with implementing state information on Python](https://github.com/mhahsler/CS7320-AI/blob/master/HOWTOs/store_agent_state_information.ipynb))"
   ]
  },
  {
   "cell_type": "markdown",
   "metadata": {
    "id": "e6RO-H3VCoPW"
   },
   "source": [
    "I decided to code my model-based agent as an object with two internally maintained variables to determine the state. The two state variables, combined with the bumpers, determine the robots course of action and location. The first state variable is called a 'phase', and the second state variable is 'last action'. The phase and the bumpers combined with the last action determine what the next action will be and where it is. The first phase's logic is used for the robot to determine its current location by getting it into the northwest corner. Basically, it goes up until its north bumper is activated, then goes west until its west bumper is activated. Once it has achieved this state, the phase changes to phase 2 and begins a lawn-mover type movement throughout the room, first checking to see if it needs to suck, then continuing its movement pattern."
   ]
  },
  {
   "cell_type": "code",
   "execution_count": 12,
   "metadata": {},
   "outputs": [],
   "source": [
    "class Agent:\n",
    "    def __init__(self, bumpers, initial_phase=1, lastaction='none'):\n",
    "        self.bumpers = bumpers\n",
    "        self.phase = initial_phase\n",
    "        self.lastaction = lastaction\n",
    "        \n",
    "    def act(self, bumpers, dirty):\n",
    "        \n",
    "        if dirty=='dirty':\n",
    "            action='suck'\n",
    "            return action\n",
    "        \n",
    "        #Setting the behavior for phase 1\n",
    "        while self.phase==1 and self.bumpers['north']==False:\n",
    "            action = 'north'\n",
    "            self.lastaction = 'north'\n",
    "            return action\n",
    "        \n",
    "        while self.phase==1 and self.bumpers['north']==True and self.bumpers['west']==False:\n",
    "            action='west'\n",
    "            self.lastaction = 'west'\n",
    "            return action\n",
    "        \n",
    "        #transition state\n",
    "        if bumpers['north']==True and bumpers['west']==True:\n",
    "            self.phase=2\n",
    "            \n",
    "        #setting behavior for lawn mower movement\n",
    "        #if in northwest corner, go south\n",
    "        if self.phase==2 and self.bumpers['north']==True and self.bumpers['west']==True:\n",
    "            action='south'\n",
    "            self.lastaction='south'\n",
    "            return action\n",
    "        \n",
    "        #if previously went south, and south bumper not yet activated, go south again\n",
    "        if self.phase==2 and self.bumpers['south']==False and self.lastaction=='south':\n",
    "            action='south'\n",
    "            self.lastaction='south'\n",
    "            return action\n",
    "        \n",
    "        #if previously going south, and south bumper activated, go east\n",
    "        if self.phase==2 and self.bumpers['south']==True and self.lastaction=='south':\n",
    "            action='east'\n",
    "            self.lastaction='east'\n",
    "            return action\n",
    "        \n",
    "        #if previously went east and south bumper activated, go north\n",
    "        if self.phase==2 and self.bumpers['south']==True and self.lastaction=='east':\n",
    "            action='north'\n",
    "            self.lastaction='north'\n",
    "            return action\n",
    "        \n",
    "        #if previously went north and north bumper not yet activated, go north\n",
    "        if self.phase==2 and self.bumpers['north']==False and self.lastaction=='north':\n",
    "            action='north'\n",
    "            self.lastaction='north'\n",
    "            return action\n",
    "        \n",
    "        #if previously went north, and north bumper activated, go east\n",
    "        if self.phase==2 and self.bumpers['north']==True and self.lastaction=='north':\n",
    "            action='east'\n",
    "            self.lastaction='east'\n",
    "            return action\n",
    "        \n",
    "        #if previously went east, and north bumper activated, go south\n",
    "        if self.phase==2 and self.bumpers['north']==True and self.lastaction=='east':\n",
    "            action='south'\n",
    "            self.lastaction='south'\n",
    "            return action\n",
    "        \n",
    "        "
   ]
  },
  {
   "cell_type": "code",
   "execution_count": 16,
   "metadata": {},
   "outputs": [
    {
     "name": "stdout",
     "output_type": "stream",
     "text": [
      "Initial Space\n",
      "=============\n",
      "[['clean' 'dirty' 'clean' 'clean' 'dirty']\n",
      " ['clean' 'dirty' 'clean' 'dirty' 'clean']\n",
      " ['clean' 'dirty' 'dirty' 'clean' 'dirty']\n",
      " ['dirty' 'dirty' 'dirty' 'clean' 'dirty']\n",
      " ['clean' 'dirty' 'dirty' 'dirty' 'dirty']]\n",
      "\n",
      "step 0 - action: suck\n",
      "step 1 - action: north\n",
      "step 2 - action: north\n",
      "step 3 - action: west\n",
      "step 4 - action: suck\n",
      "step 5 - action: west\n",
      "step 6 - action: south\n",
      "step 7 - action: south\n",
      "step 8 - action: south\n",
      "step 9 - action: suck\n",
      "step 10 - action: south\n",
      "step 11 - action: east\n",
      "step 12 - action: suck\n",
      "step 13 - action: north\n",
      "step 14 - action: suck\n",
      "step 15 - action: north\n",
      "step 16 - action: suck\n",
      "step 17 - action: north\n",
      "step 18 - action: suck\n",
      "step 19 - action: north\n",
      "step 20 - action: east\n",
      "step 21 - action: south\n",
      "step 22 - action: south\n",
      "step 23 - action: south\n",
      "step 24 - action: suck\n",
      "step 25 - action: south\n",
      "step 26 - action: suck\n",
      "step 27 - action: east\n",
      "step 28 - action: suck\n",
      "step 29 - action: north\n",
      "step 30 - action: north\n",
      "step 31 - action: north\n",
      "step 32 - action: suck\n",
      "step 33 - action: north\n",
      "step 34 - action: east\n",
      "step 35 - action: suck\n",
      "step 36 - action: south\n",
      "step 37 - action: south\n",
      "step 38 - action: suck\n",
      "step 39 - action: south\n",
      "step 40 - action: suck\n",
      "step 41 - action: south\n",
      "step 42 - action: suck\n",
      "\n",
      "Resulting Space\n",
      "===============\n",
      "[['clean' 'clean' 'clean' 'clean' 'clean']\n",
      " ['clean' 'clean' 'clean' 'clean' 'clean']\n",
      " ['clean' 'clean' 'clean' 'clean' 'clean']\n",
      " ['clean' 'clean' 'clean' 'clean' 'clean']\n",
      " ['clean' 'clean' 'clean' 'clean' 'clean']]\n",
      "\n",
      "Final Bumpers\n",
      "{'north': False, 'south': True, 'west': False, 'east': True}\n",
      "\n",
      "How many steps to clean room:\n",
      "43\n"
     ]
    },
    {
     "data": {
      "text/plain": [
       "43"
      ]
     },
     "execution_count": 16,
     "metadata": {},
     "output_type": "execute_result"
    }
   ],
   "source": [
    "environment(5,50)"
   ]
  },
  {
   "cell_type": "markdown",
   "metadata": {},
   "source": [
    "Evident through the steps printed, the resulting clean space, and the bumpers indicated the robot is in the southeast corner, the lawn-mower algorithm I coded worked. It only took 43 steps to clean the entire room."
   ]
  },
  {
   "cell_type": "markdown",
   "metadata": {
    "id": "4r9OMl4kCoPW"
   },
   "source": [
    "## Task 4: Simulation study [30 Points]\n",
    "\n",
    "Compare the performance (the performance measure is defined in the PEAS description above) of the agents using  environments of different size. E.g., $5 \\times 5$, $10 \\times 10$ and\n",
    "$100 \\times 100$. Use 100 random runs for each. Present the results using tables and graphs. Discuss the differences between the agents.\n",
    "([Help with charts and tables in Python](https://github.com/mhahsler/CS7320-AI/blob/master/HOWTOs/charts_and_tables.ipynb))"
   ]
  },
  {
   "cell_type": "code",
   "execution_count": null,
   "metadata": {},
   "outputs": [],
   "source": [
    "#Randomized Agent"
   ]
  },
  {
   "cell_type": "code",
   "execution_count": 75,
   "metadata": {},
   "outputs": [
    {
     "name": "stdout",
     "output_type": "stream",
     "text": [
      "20000.0\n"
     ]
    }
   ],
   "source": [
    "list1=[]\n",
    "for i in range(100):\n",
    "    result1=environment(5,20000, verbose=False)\n",
    "    list1.append(result1)\n",
    "avg1=sum(list1)/len(list1)\n",
    "print(avg1)"
   ]
  },
  {
   "cell_type": "code",
   "execution_count": 76,
   "metadata": {},
   "outputs": [
    {
     "name": "stdout",
     "output_type": "stream",
     "text": [
      "20000.0\n"
     ]
    }
   ],
   "source": [
    "list2=[]\n",
    "for i in range(100):\n",
    "    result2=environment(10,20000, verbose=False)\n",
    "    list2.append(result2)\n",
    "avg2=sum(list2)/len(list2)\n",
    "print(avg2)"
   ]
  },
  {
   "cell_type": "code",
   "execution_count": 77,
   "metadata": {},
   "outputs": [
    {
     "name": "stdout",
     "output_type": "stream",
     "text": [
      "20000.0\n"
     ]
    }
   ],
   "source": [
    "list3=[]\n",
    "for i in range(100):\n",
    "    result3=environment(100,20000,verbose=False)\n",
    "    list3.append(result3)\n",
    "avg3=sum(list3)/len(list3)\n",
    "print(avg3)"
   ]
  },
  {
   "cell_type": "markdown",
   "metadata": {},
   "source": [
    "Each of the above trials reached the maximum amount of allowed steps, meaning they all had insufficient amounts of steps to clean the room"
   ]
  },
  {
   "cell_type": "code",
   "execution_count": null,
   "metadata": {},
   "outputs": [],
   "source": [
    "#Simple Reflex Agent"
   ]
  },
  {
   "cell_type": "code",
   "execution_count": 70,
   "metadata": {},
   "outputs": [
    {
     "name": "stdout",
     "output_type": "stream",
     "text": [
      "164.84\n"
     ]
    }
   ],
   "source": [
    "list4=[]\n",
    "for i in range(100):\n",
    "    result4=environment(5,10000, verbose=False)\n",
    "    list4.append(result4)\n",
    "avg4=sum(list4)/len(list4)\n",
    "print(avg4)"
   ]
  },
  {
   "cell_type": "code",
   "execution_count": 71,
   "metadata": {},
   "outputs": [
    {
     "name": "stdout",
     "output_type": "stream",
     "text": [
      "1191.71\n"
     ]
    }
   ],
   "source": [
    "list5=[]\n",
    "for i in range(100):\n",
    "    result5=environment(10,10000, verbose=False)\n",
    "    list5.append(result5)\n",
    "avg5=sum(list5)/len(list5)\n",
    "print(avg5)"
   ]
  },
  {
   "cell_type": "code",
   "execution_count": 73,
   "metadata": {},
   "outputs": [
    {
     "name": "stdout",
     "output_type": "stream",
     "text": [
      "20000.0\n"
     ]
    }
   ],
   "source": [
    "list6=[]\n",
    "for i in range(100):\n",
    "    result6=environment(100,20000,verbose=False)\n",
    "    list6.append(result6)\n",
    "avg6=sum(list6)/len(list6)\n",
    "print(avg6)"
   ]
  },
  {
   "cell_type": "markdown",
   "metadata": {},
   "source": [
    "This one also took the maximum number of steps given, meaning it could not clean the entire room and needs more alotted steps."
   ]
  },
  {
   "cell_type": "code",
   "execution_count": null,
   "metadata": {},
   "outputs": [],
   "source": [
    "#Model-based Agent"
   ]
  },
  {
   "cell_type": "code",
   "execution_count": 61,
   "metadata": {
    "id": "U-8ibbbuCoPW"
   },
   "outputs": [
    {
     "name": "stdout",
     "output_type": "stream",
     "text": [
      "39.75\n"
     ]
    }
   ],
   "source": [
    "list7=[]\n",
    "for i in range(100):\n",
    "    result7=environment(5,20000, verbose=False)\n",
    "    list7.append(result7)\n",
    "avg7 = sum(list7)/len(list7)\n",
    "print(avg7)\n"
   ]
  },
  {
   "cell_type": "code",
   "execution_count": 62,
   "metadata": {},
   "outputs": [
    {
     "name": "stdout",
     "output_type": "stream",
     "text": [
      "152.14\n"
     ]
    }
   ],
   "source": [
    "list8=[]\n",
    "for i in range(100):\n",
    "    result8=environment(10,20000, verbose=False)\n",
    "    list8.append(result8)\n",
    "avg8 = sum(list8)/len(list8)\n",
    "print(avg8)\n",
    "    "
   ]
  },
  {
   "cell_type": "code",
   "execution_count": 63,
   "metadata": {},
   "outputs": [
    {
     "name": "stdout",
     "output_type": "stream",
     "text": [
      "15015.26\n"
     ]
    }
   ],
   "source": [
    "list9=[]\n",
    "for i in range(100):\n",
    "    result9=environment(100,20000, verbose=False)\n",
    "    list9.append(result9)\n",
    "avg9=sum(list9)/len(list9)\n",
    "print(avg9)"
   ]
  },
  {
   "cell_type": "markdown",
   "metadata": {
    "id": "njoYdhfICoPW"
   },
   "source": [
    "Fill out the following table with the average performance measure for 100 random runs (you may also create this table with code):\n",
    "\n",
    "| Size     | Randomized Agent | Simple Reflex Agent | Model-based Reflex Agent |\n",
    "|----------|------------------|---------------------|--------------------------|\n",
    "| 5x5     |20,000 | 164.84|39.75 |\n",
    "| 10x10   |20,000 | 1191.71|152.14 |\n",
    "| 100x100 |20,000 | 20,000|15015.26 |\n",
    "\n",
    "Add charts to compare the performance of the different agents."
   ]
  },
  {
   "cell_type": "code",
   "execution_count": 83,
   "metadata": {
    "id": "sfW6PutOCoPW"
   },
   "outputs": [
    {
     "data": {
      "text/html": [
       "<div>\n",
       "<style scoped>\n",
       "    .dataframe tbody tr th:only-of-type {\n",
       "        vertical-align: middle;\n",
       "    }\n",
       "\n",
       "    .dataframe tbody tr th {\n",
       "        vertical-align: top;\n",
       "    }\n",
       "\n",
       "    .dataframe thead th {\n",
       "        text-align: right;\n",
       "    }\n",
       "</style>\n",
       "<table border=\"1\" class=\"dataframe\">\n",
       "  <thead>\n",
       "    <tr style=\"text-align: right;\">\n",
       "      <th></th>\n",
       "      <th>Randomized Agent</th>\n",
       "      <th>Simple Reflex Agent</th>\n",
       "      <th>Model-based Reflex Agent</th>\n",
       "    </tr>\n",
       "  </thead>\n",
       "  <tbody>\n",
       "    <tr>\n",
       "      <th>0</th>\n",
       "      <td>20000</td>\n",
       "      <td>150</td>\n",
       "      <td>37</td>\n",
       "    </tr>\n",
       "    <tr>\n",
       "      <th>1</th>\n",
       "      <td>20000</td>\n",
       "      <td>48</td>\n",
       "      <td>44</td>\n",
       "    </tr>\n",
       "    <tr>\n",
       "      <th>2</th>\n",
       "      <td>20000</td>\n",
       "      <td>211</td>\n",
       "      <td>40</td>\n",
       "    </tr>\n",
       "    <tr>\n",
       "      <th>3</th>\n",
       "      <td>20000</td>\n",
       "      <td>175</td>\n",
       "      <td>41</td>\n",
       "    </tr>\n",
       "    <tr>\n",
       "      <th>4</th>\n",
       "      <td>20000</td>\n",
       "      <td>204</td>\n",
       "      <td>38</td>\n",
       "    </tr>\n",
       "    <tr>\n",
       "      <th>...</th>\n",
       "      <td>...</td>\n",
       "      <td>...</td>\n",
       "      <td>...</td>\n",
       "    </tr>\n",
       "    <tr>\n",
       "      <th>95</th>\n",
       "      <td>20000</td>\n",
       "      <td>123</td>\n",
       "      <td>45</td>\n",
       "    </tr>\n",
       "    <tr>\n",
       "      <th>96</th>\n",
       "      <td>20000</td>\n",
       "      <td>292</td>\n",
       "      <td>40</td>\n",
       "    </tr>\n",
       "    <tr>\n",
       "      <th>97</th>\n",
       "      <td>20000</td>\n",
       "      <td>223</td>\n",
       "      <td>43</td>\n",
       "    </tr>\n",
       "    <tr>\n",
       "      <th>98</th>\n",
       "      <td>20000</td>\n",
       "      <td>156</td>\n",
       "      <td>46</td>\n",
       "    </tr>\n",
       "    <tr>\n",
       "      <th>99</th>\n",
       "      <td>20000</td>\n",
       "      <td>118</td>\n",
       "      <td>41</td>\n",
       "    </tr>\n",
       "  </tbody>\n",
       "</table>\n",
       "<p>100 rows × 3 columns</p>\n",
       "</div>"
      ],
      "text/plain": [
       "    Randomized Agent  Simple Reflex Agent  Model-based Reflex Agent\n",
       "0              20000                  150                        37\n",
       "1              20000                   48                        44\n",
       "2              20000                  211                        40\n",
       "3              20000                  175                        41\n",
       "4              20000                  204                        38\n",
       "..               ...                  ...                       ...\n",
       "95             20000                  123                        45\n",
       "96             20000                  292                        40\n",
       "97             20000                  223                        43\n",
       "98             20000                  156                        46\n",
       "99             20000                  118                        41\n",
       "\n",
       "[100 rows x 3 columns]"
      ]
     },
     "execution_count": 83,
     "metadata": {},
     "output_type": "execute_result"
    }
   ],
   "source": [
    "import pandas as pd\n",
    "fivebyfive={'Randomized Agent':list1, 'Simple Reflex Agent':list4, 'Model-based Reflex Agent': list7}\n",
    "df = pd.DataFrame(fivebyfive)\n",
    "df"
   ]
  },
  {
   "cell_type": "code",
   "execution_count": 84,
   "metadata": {},
   "outputs": [
    {
     "data": {
      "text/html": [
       "<div>\n",
       "<style scoped>\n",
       "    .dataframe tbody tr th:only-of-type {\n",
       "        vertical-align: middle;\n",
       "    }\n",
       "\n",
       "    .dataframe tbody tr th {\n",
       "        vertical-align: top;\n",
       "    }\n",
       "\n",
       "    .dataframe thead th {\n",
       "        text-align: right;\n",
       "    }\n",
       "</style>\n",
       "<table border=\"1\" class=\"dataframe\">\n",
       "  <thead>\n",
       "    <tr style=\"text-align: right;\">\n",
       "      <th></th>\n",
       "      <th>Randomized Agent</th>\n",
       "      <th>Simple Reflex Agent</th>\n",
       "      <th>Model-based Reflex Agent</th>\n",
       "    </tr>\n",
       "  </thead>\n",
       "  <tbody>\n",
       "    <tr>\n",
       "      <th>0</th>\n",
       "      <td>20000</td>\n",
       "      <td>1103</td>\n",
       "      <td>151</td>\n",
       "    </tr>\n",
       "    <tr>\n",
       "      <th>1</th>\n",
       "      <td>20000</td>\n",
       "      <td>2006</td>\n",
       "      <td>150</td>\n",
       "    </tr>\n",
       "    <tr>\n",
       "      <th>2</th>\n",
       "      <td>20000</td>\n",
       "      <td>705</td>\n",
       "      <td>162</td>\n",
       "    </tr>\n",
       "    <tr>\n",
       "      <th>3</th>\n",
       "      <td>20000</td>\n",
       "      <td>1931</td>\n",
       "      <td>153</td>\n",
       "    </tr>\n",
       "    <tr>\n",
       "      <th>4</th>\n",
       "      <td>20000</td>\n",
       "      <td>739</td>\n",
       "      <td>163</td>\n",
       "    </tr>\n",
       "    <tr>\n",
       "      <th>...</th>\n",
       "      <td>...</td>\n",
       "      <td>...</td>\n",
       "      <td>...</td>\n",
       "    </tr>\n",
       "    <tr>\n",
       "      <th>95</th>\n",
       "      <td>20000</td>\n",
       "      <td>790</td>\n",
       "      <td>156</td>\n",
       "    </tr>\n",
       "    <tr>\n",
       "      <th>96</th>\n",
       "      <td>20000</td>\n",
       "      <td>886</td>\n",
       "      <td>155</td>\n",
       "    </tr>\n",
       "    <tr>\n",
       "      <th>97</th>\n",
       "      <td>20000</td>\n",
       "      <td>2178</td>\n",
       "      <td>150</td>\n",
       "    </tr>\n",
       "    <tr>\n",
       "      <th>98</th>\n",
       "      <td>20000</td>\n",
       "      <td>606</td>\n",
       "      <td>153</td>\n",
       "    </tr>\n",
       "    <tr>\n",
       "      <th>99</th>\n",
       "      <td>20000</td>\n",
       "      <td>1560</td>\n",
       "      <td>147</td>\n",
       "    </tr>\n",
       "  </tbody>\n",
       "</table>\n",
       "<p>100 rows × 3 columns</p>\n",
       "</div>"
      ],
      "text/plain": [
       "    Randomized Agent  Simple Reflex Agent  Model-based Reflex Agent\n",
       "0              20000                 1103                       151\n",
       "1              20000                 2006                       150\n",
       "2              20000                  705                       162\n",
       "3              20000                 1931                       153\n",
       "4              20000                  739                       163\n",
       "..               ...                  ...                       ...\n",
       "95             20000                  790                       156\n",
       "96             20000                  886                       155\n",
       "97             20000                 2178                       150\n",
       "98             20000                  606                       153\n",
       "99             20000                 1560                       147\n",
       "\n",
       "[100 rows x 3 columns]"
      ]
     },
     "execution_count": 84,
     "metadata": {},
     "output_type": "execute_result"
    }
   ],
   "source": [
    "tenbyten={'Randomized Agent': list2, 'Simple Reflex Agent':list5, 'Model-based Reflex Agent': list8}\n",
    "df2=pd.DataFrame(tenbyten)\n",
    "df2"
   ]
  },
  {
   "cell_type": "code",
   "execution_count": 85,
   "metadata": {},
   "outputs": [
    {
     "data": {
      "text/html": [
       "<div>\n",
       "<style scoped>\n",
       "    .dataframe tbody tr th:only-of-type {\n",
       "        vertical-align: middle;\n",
       "    }\n",
       "\n",
       "    .dataframe tbody tr th {\n",
       "        vertical-align: top;\n",
       "    }\n",
       "\n",
       "    .dataframe thead th {\n",
       "        text-align: right;\n",
       "    }\n",
       "</style>\n",
       "<table border=\"1\" class=\"dataframe\">\n",
       "  <thead>\n",
       "    <tr style=\"text-align: right;\">\n",
       "      <th></th>\n",
       "      <th>Randomized Agent</th>\n",
       "      <th>Simple Reflex Agent</th>\n",
       "      <th>Model-based Reflex Agent</th>\n",
       "    </tr>\n",
       "  </thead>\n",
       "  <tbody>\n",
       "    <tr>\n",
       "      <th>0</th>\n",
       "      <td>20000</td>\n",
       "      <td>20000</td>\n",
       "      <td>14960</td>\n",
       "    </tr>\n",
       "    <tr>\n",
       "      <th>1</th>\n",
       "      <td>20000</td>\n",
       "      <td>20000</td>\n",
       "      <td>15041</td>\n",
       "    </tr>\n",
       "    <tr>\n",
       "      <th>2</th>\n",
       "      <td>20000</td>\n",
       "      <td>20000</td>\n",
       "      <td>15045</td>\n",
       "    </tr>\n",
       "    <tr>\n",
       "      <th>3</th>\n",
       "      <td>20000</td>\n",
       "      <td>20000</td>\n",
       "      <td>14925</td>\n",
       "    </tr>\n",
       "    <tr>\n",
       "      <th>4</th>\n",
       "      <td>20000</td>\n",
       "      <td>20000</td>\n",
       "      <td>14981</td>\n",
       "    </tr>\n",
       "    <tr>\n",
       "      <th>...</th>\n",
       "      <td>...</td>\n",
       "      <td>...</td>\n",
       "      <td>...</td>\n",
       "    </tr>\n",
       "    <tr>\n",
       "      <th>95</th>\n",
       "      <td>20000</td>\n",
       "      <td>20000</td>\n",
       "      <td>14976</td>\n",
       "    </tr>\n",
       "    <tr>\n",
       "      <th>96</th>\n",
       "      <td>20000</td>\n",
       "      <td>20000</td>\n",
       "      <td>14992</td>\n",
       "    </tr>\n",
       "    <tr>\n",
       "      <th>97</th>\n",
       "      <td>20000</td>\n",
       "      <td>20000</td>\n",
       "      <td>15039</td>\n",
       "    </tr>\n",
       "    <tr>\n",
       "      <th>98</th>\n",
       "      <td>20000</td>\n",
       "      <td>20000</td>\n",
       "      <td>14886</td>\n",
       "    </tr>\n",
       "    <tr>\n",
       "      <th>99</th>\n",
       "      <td>20000</td>\n",
       "      <td>20000</td>\n",
       "      <td>15004</td>\n",
       "    </tr>\n",
       "  </tbody>\n",
       "</table>\n",
       "<p>100 rows × 3 columns</p>\n",
       "</div>"
      ],
      "text/plain": [
       "    Randomized Agent  Simple Reflex Agent  Model-based Reflex Agent\n",
       "0              20000                20000                     14960\n",
       "1              20000                20000                     15041\n",
       "2              20000                20000                     15045\n",
       "3              20000                20000                     14925\n",
       "4              20000                20000                     14981\n",
       "..               ...                  ...                       ...\n",
       "95             20000                20000                     14976\n",
       "96             20000                20000                     14992\n",
       "97             20000                20000                     15039\n",
       "98             20000                20000                     14886\n",
       "99             20000                20000                     15004\n",
       "\n",
       "[100 rows x 3 columns]"
      ]
     },
     "execution_count": 85,
     "metadata": {},
     "output_type": "execute_result"
    }
   ],
   "source": [
    "hunbyhun={'Randomized Agent': list3, 'Simple Reflex Agent':list6, 'Model-based Reflex Agent': list9}\n",
    "df3=pd.DataFrame(hunbyhun)\n",
    "df3"
   ]
  },
  {
   "cell_type": "markdown",
   "metadata": {},
   "source": [
    "These are the amount of steps needed to clean the entire room for all of the agents throughout 100 runs each sized simulation (i.e. 5x5, 10x10, and 100x100 dimensions). If the steps got up to 20000, the maximum allotted number of steps, the robot likely wasn't able to clean the entire room and needed more steps. Clearly, the model-based agent's algorithm worked the best throughout all the simulations, as not only did the robot complete the task in less steps, but for every single run, the robot was able to get all the dirt out."
   ]
  },
  {
   "cell_type": "code",
   "execution_count": 104,
   "metadata": {},
   "outputs": [
    {
     "name": "stdout",
     "output_type": "stream",
     "text": [
      "Mean performance for a 5x5 env: [20000.0, 164.84, 39.75]\n"
     ]
    },
    {
     "data": {
      "image/png": "[encoded data removed]",
      "text/plain": [
       "<Figure size 640x480 with 1 Axes>"
      ]
     },
     "metadata": {},
     "output_type": "display_data"
    }
   ],
   "source": [
    "import matplotlib.pyplot as plt\n",
    "fivebyfivemeans = [avg1, avg4, avg7]\n",
    "print(f\"Mean performance for a 5x5 env: {fivebyfivemeans}\")\n",
    "keys = ['Randomized Agent', 'Simple Reflex Agent', 'Model-based Reflex Agent']\n",
    "plt.bar(keys,fivebyfivemeans)\n",
    "plt.ylim(0,500)\n",
    "plt.show()"
   ]
  },
  {
   "cell_type": "markdown",
   "metadata": {},
   "source": [
    "Of course, the randomized agent took much longer than 500 steps but for the sake of comparison I set the y limit to 500"
   ]
  },
  {
   "cell_type": "code",
   "execution_count": 129,
   "metadata": {},
   "outputs": [
    {
     "data": {
      "image/png": "[encoded data removed]",
      "text/plain": [
       "<Figure size 640x480 with 1 Axes>"
      ]
     },
     "metadata": {},
     "output_type": "display_data"
    },
    {
     "data": {
      "image/png": "[encoded data removed]",
      "text/plain": [
       "<Figure size 640x480 with 1 Axes>"
      ]
     },
     "metadata": {},
     "output_type": "display_data"
    },
    {
     "data": {
      "image/png": "[encoded data removed]",
      "text/plain": [
       "<Figure size 640x480 with 1 Axes>"
      ]
     },
     "metadata": {},
     "output_type": "display_data"
    }
   ],
   "source": [
    "plt.hist(list1, bins=20)\n",
    "plt.xlabel(\"Performance of Randomized Agent on 5x5\")\n",
    "plt.ylabel(\"Frequency\")\n",
    "plt.xlim(20000)\n",
    "plt.show()\n",
    "\n",
    "plt.hist(list4, bins=20, color='green')\n",
    "plt.xlabel(\"Performance of Simple Reflex Agent on 5x5\")\n",
    "plt.ylabel(\"Frequency\")\n",
    "plt.show()\n",
    "\n",
    "plt.hist(list7, bins=20, color='orange')\n",
    "plt.xlabel(\"Performance of Modelbased Agent on 5x5\")\n",
    "plt.ylabel(\"Frequency\")\n",
    "plt.show()"
   ]
  },
  {
   "cell_type": "code",
   "execution_count": 130,
   "metadata": {},
   "outputs": [
    {
     "data": {
      "image/png": "[encoded data removed]",
      "text/plain": [
       "<Figure size 640x480 with 1 Axes>"
      ]
     },
     "metadata": {},
     "output_type": "display_data"
    },
    {
     "data": {
      "image/png": "[encoded data removed]",
      "text/plain": [
       "<Figure size 640x480 with 1 Axes>"
      ]
     },
     "metadata": {},
     "output_type": "display_data"
    },
    {
     "data": {
      "image/png": "[encoded data removed]",
      "text/plain": [
       "<Figure size 640x480 with 1 Axes>"
      ]
     },
     "metadata": {},
     "output_type": "display_data"
    }
   ],
   "source": [
    "plt.hist(list2, bins=20)\n",
    "plt.xlabel(\"Performance of Randomized Agent on 10x10\")\n",
    "plt.xlim(20000)\n",
    "plt.ylabel(\"Frequency\")\n",
    "plt.show()\n",
    "\n",
    "plt.hist(list5, bins=20, color='green')\n",
    "plt.xlabel(\"Performance of Simple Reflex Agent on 10x10\")\n",
    "plt.ylabel(\"Frequency\")\n",
    "plt.show()\n",
    "\n",
    "plt.hist(list8, bins=20, color='orange')\n",
    "plt.xlabel(\"Performance of Modelbased Agent on 10x10\")\n",
    "plt.ylabel(\"Frequency\")\n",
    "plt.show()"
   ]
  },
  {
   "cell_type": "code",
   "execution_count": 131,
   "metadata": {},
   "outputs": [
    {
     "data": {
      "image/png": "[encoded data removed]",
      "text/plain": [
       "<Figure size 640x480 with 1 Axes>"
      ]
     },
     "metadata": {},
     "output_type": "display_data"
    },
    {
     "data": {
      "image/png": "[encoded data removed]",
      "text/plain": [
       "<Figure size 640x480 with 1 Axes>"
      ]
     },
     "metadata": {},
     "output_type": "display_data"
    },
    {
     "data": {
      "image/png": "[encoded data removed]",
      "text/plain": [
       "<Figure size 640x480 with 1 Axes>"
      ]
     },
     "metadata": {},
     "output_type": "display_data"
    }
   ],
   "source": [
    "plt.hist(list3, bins=20)\n",
    "plt.xlabel(\"Performance of Randomized Agent on 100x100\")\n",
    "plt.ylabel(\"Frequency\")\n",
    "plt.show()\n",
    "\n",
    "plt.hist(list6, bins=20, color='green')\n",
    "plt.xlabel(\"Performance of Simple Reflex Agent on 100x100\")\n",
    "plt.ylabel(\"Frequency\")\n",
    "plt.show()\n",
    "\n",
    "plt.hist(list9, bins=20, color='orange')\n",
    "plt.xlabel(\"Performance of Modelbased Agent on 100x100\")\n",
    "plt.ylabel(\"Frequency\")\n",
    "plt.show()"
   ]
  },
  {
   "cell_type": "markdown",
   "metadata": {
    "id": "D5qhJGj1CoPW"
   },
   "source": [
    "## Task 5: Robustness of the agent implementations [10 Points]\n",
    "\n",
    "Describe how **your agent implementations** will perform\n",
    "\n",
    "* if it is put into a rectangular room with unknown size,\n",
    "* if the cleaning area can have an irregular shape (e.g., a hallway connecting two rooms), or\n",
    "* if the room contains obstacles (i.e., squares that it cannot pass through and trigger the bumper sensors)."
   ]
  },
  {
   "cell_type": "markdown",
   "metadata": {
    "id": "xw1qY-tsCoPW"
   },
   "source": [
    "If my models are put into a rectangular room of unknown size, the randomized and simple reflex models will work similarly as they don't take location into account, and the model-based agent should be able to clean the room just as effectively as if it were a square room. The random and simple reflex models will randomly choose and action, with the simple reflex model sucking dirt if it detects it and and choosing not to go the direction of an activated bumper. The model based agent will find the northwest corner of the room and continue its lawn mower type cleaning route exactly as it did in the square room. If there is an irregular shape such as a hallway, I expect the simple reflex agent and randomized agent to perform better than the model based agent, with the simple reflex agent performing the best. This is because the model based agent would likely not clean the hallway if it is on the east or west walls, and only clean the hallway if it is on a north or south wall. The model based agent basically sweeps the room vertically (north to south, and south to north) and only moves east or west if a north or south bumper is activated. Therefore, the randomized and simple reflex agent will likely clean more of the hallway than the model based agent. The simple reflex agent would perform better than the randomized agent, as it detects dirt and doesn't walk into walls. Finally, if there are obstacles, I also think the random and simple reflex agent will work better than the model based agent. The model based agent would get confused and continue its lawn mower cleaning route assuming the obstacle is a wall. The simple reflex agent would randomly choose an action that doesn't include walking into the obstacle. The randomized agent would possible walk into the obstacle. Therefore, I believe the simple reflex agent will perform the best with obstacles."
   ]
  },
  {
   "cell_type": "markdown",
   "metadata": {
    "id": "BgSQboeiCoPW"
   },
   "source": [
    "## Advanced task: Obstacles\n",
    "\n",
    "* __Graduate students__ need to complete this task [10 points]\n",
    "* __Undergraduate students__ can attempt this as a bonus task [max +5 bonus points].\n",
    "\n",
    "1. Change your simulation environment tor run experiments for the following problem: Add random obstacle squares that also trigger the bumper sensor. The agent does not know where the obstacles are. Observe how this changes the performance of the three implementations.\n",
    "\n",
    "2. Describe what would need to be done to perform better with obstacles. Add code if you can."
   ]
  },
  {
   "cell_type": "code",
   "execution_count": 186,
   "metadata": {
    "id": "0qMZzWb5CoPW"
   },
   "outputs": [],
   "source": [
    "import numpy as np\n",
    "bumpers = {\"north\" : False, \"south\" : False, \"west\" : False, \"east\" : False}\n",
    "actions=['north', 'east', 'south', 'west']\n",
    "\n",
    "def obstacleenv(dim, maxsteps, verbose = True):\n",
    "    \n",
    "    #initializing random number generator\n",
    "    rng = np.random.default_rng()\n",
    "    \n",
    "    #intializing proportion of cleans and dirty\n",
    "    p=.5\n",
    "    \n",
    "    #generating array with values 'dirty' and 'clean' with frequency p\n",
    "    space = rng.choice(['dirty', 'clean', 'obst'], size=(dim,dim), p=[.3,.4,.3])\n",
    "    \n",
    "    num_cleaned = 0\n",
    "    \n",
    "    #I set the origin coordinates for the vacuum to be [2][2]\n",
    "    #The coordinates could start anywhere and the model agent would still find the correct location\n",
    "    #x coordinates for the array\n",
    "    x=2\n",
    "    #y coordinates for the array\n",
    "    y=2\n",
    "    space[x][y]='clean'\n",
    "    \n",
    "    #Commented out neatly printing the original space\n",
    "    print(\"Initial Space\")\n",
    "    print(\"=============\")\n",
    "    print(space)\n",
    "    print()\n",
    "    agent1 = Agent(bumpers)\n",
    "    step=0\n",
    "    #Setting the starting coordinates as clean so the robot doesn't land on an obstacle\n",
    "    \n",
    "    for i in range(maxsteps):\n",
    "            dirty = space[x][y]\n",
    "            \n",
    "            #Commenting out the agents that I am not currently using\n",
    "            #action = simple_randomized_agent(bumpers, dirty)\n",
    "            #action = reflexagent(bumpers, dirty)\n",
    "            action = agent1.act(bumpers, dirty)\n",
    "\n",
    "            if (verbose):\n",
    "                print(\"step\", step, \"- action:\", action)\n",
    "\n",
    "            #First checking if there is any dirt to suck, then sucking that dirt\n",
    "            if action == 'suck':\n",
    "                num_cleaned += 1\n",
    "                space[x][y] = 'clean'\n",
    "                \n",
    "            #Then checking if the movement is valid (we don't run over walls)(this doesn't mean we can't bump into walls)\n",
    "            if action == 'north' and x>=1:\n",
    "                x-=1\n",
    "            if action == 'east' and y<=(dim-2):\n",
    "                y+=1\n",
    "            if action == 'south' and x<=(dim-2):\n",
    "                x+=1\n",
    "            if action == 'west' and y>=1:\n",
    "                y-=1\n",
    "\n",
    "            #Coding the environment to trigger the bumpers if on an edge\n",
    "            if x==0:\n",
    "                bumpers[\"north\"]=True\n",
    "            else:\n",
    "                bumpers[\"north\"]=False\n",
    "            if x==(dim-1):\n",
    "                bumpers[\"south\"]=True\n",
    "            else:\n",
    "                bumpers[\"south\"]=False\n",
    "            if y==0:\n",
    "                bumpers[\"west\"]=True\n",
    "            else:\n",
    "                bumpers[\"west\"]=False\n",
    "            if y==(dim-1):\n",
    "                bumpers[\"east\"]=True\n",
    "            else: \n",
    "                bumpers[\"east\"]=False\n",
    "                \n",
    "            #Setting the bumpers to react to the obstacles 'obst' if the index exists\n",
    "            if (x+1)<dim:\n",
    "                if space[x+1][y]=='obst':\n",
    "                    bumpers[\"south\"]=True\n",
    "            if (x-1)>=0:\n",
    "                if space[x-1][y]=='obst':\n",
    "                    bumpers[\"north\"]=True\n",
    "            if (y+1)<dim:\n",
    "                if space[x][y+1]=='obst':\n",
    "                    bumpers['east']=True\n",
    "            if (y-1)>=0:\n",
    "                if space[x][y-1]=='obst':\n",
    "                    bumpers['west']=True\n",
    "            \n",
    "            step+=1\n",
    "            #If all dirt has been cleaned, return the number of steps it took to make it so\n",
    "            if 'dirty' not in space:\n",
    "                return step\n",
    "        \n",
    "    #These are simply print statements that I used to neatly display the before/after spaces\n",
    "    print()\n",
    "    print(\"Resulting Space\")\n",
    "    print(\"===============\")\n",
    "    print(space)\n",
    "    print()\n",
    "    print(\"Final Bumpers\")\n",
    "    print(bumpers)\n",
    "    print()\n",
    "    print(step)\n",
    "    print(\"Final Coordinates of the robot\", x,y)\n",
    "    \n",
    "    return step"
   ]
  },
  {
   "cell_type": "code",
   "execution_count": 182,
   "metadata": {},
   "outputs": [
    {
     "name": "stdout",
     "output_type": "stream",
     "text": [
      "Initial Space\n",
      "=============\n",
      "[['obst' 'clean' 'clean' 'dirty' 'dirty']\n",
      " ['obst' 'clean' 'clean' 'clean' 'clean']\n",
      " ['dirty' 'dirty' 'clean' 'clean' 'obst']\n",
      " ['obst' 'obst' 'clean' 'dirty' 'obst']\n",
      " ['clean' 'obst' 'dirty' 'obst' 'clean']]\n",
      "\n",
      "step 0 - action: east\n",
      "step 1 - action: north\n",
      "step 2 - action: south\n",
      "step 3 - action: north\n",
      "step 4 - action: east\n",
      "step 5 - action: north\n",
      "step 6 - action: north\n",
      "step 7 - action: east\n",
      "step 8 - action: south\n",
      "step 9 - action: east\n",
      "\n",
      "Resulting Space\n",
      "===============\n",
      "[['obst' 'clean' 'clean' 'dirty' 'dirty']\n",
      " ['obst' 'clean' 'clean' 'clean' 'clean']\n",
      " ['dirty' 'dirty' 'clean' 'clean' 'obst']\n",
      " ['obst' 'obst' 'clean' 'dirty' 'obst']\n",
      " ['clean' 'obst' 'dirty' 'obst' 'clean']]\n",
      "\n",
      "Final Bumpers\n",
      "{'north': False, 'south': True, 'west': False, 'east': True}\n",
      "\n",
      "10\n",
      "Final Coordinates of the robot 1 4\n"
     ]
    },
    {
     "data": {
      "text/plain": [
       "10"
      ]
     },
     "execution_count": 182,
     "metadata": {},
     "output_type": "execute_result"
    }
   ],
   "source": [
    "#Random Agent\n",
    "obstacleenv(5, 10, verbose = True)"
   ]
  },
  {
   "cell_type": "markdown",
   "metadata": {},
   "source": [
    "The randomized agent doesn't react to the bumpers and consequently doesn't avoid obstacles. It runs right into obstacles which is rather unrealistic as well as inefficient. If we want an agent to react to the obstacles and not try to go run into them, we need at least a reflexive agent. The bumpers are activated, as the southern bumper is activated from an obstacle. The agent simply just doesn't take the bumpers into account when choosing an action."
   ]
  },
  {
   "cell_type": "code",
   "execution_count": 185,
   "metadata": {},
   "outputs": [
    {
     "name": "stdout",
     "output_type": "stream",
     "text": [
      "Initial Space\n",
      "=============\n",
      "[['obst' 'dirty' 'obst' 'dirty' 'clean']\n",
      " ['clean' 'clean' 'clean' 'obst' 'obst']\n",
      " ['dirty' 'dirty' 'clean' 'dirty' 'obst']\n",
      " ['obst' 'dirty' 'clean' 'obst' 'obst']\n",
      " ['clean' 'clean' 'dirty' 'dirty' 'clean']]\n",
      "\n",
      "step 0 - action: north\n",
      "step 1 - action: west\n",
      "step 2 - action: south\n",
      "step 3 - action: suck\n",
      "step 4 - action: north\n",
      "step 5 - action: south\n",
      "step 6 - action: south\n",
      "step 7 - action: suck\n",
      "step 8 - action: south\n",
      "step 9 - action: west\n",
      "\n",
      "Resulting Space\n",
      "===============\n",
      "[['obst' 'dirty' 'obst' 'dirty' 'clean']\n",
      " ['clean' 'clean' 'clean' 'obst' 'obst']\n",
      " ['dirty' 'clean' 'clean' 'dirty' 'obst']\n",
      " ['obst' 'clean' 'clean' 'obst' 'obst']\n",
      " ['clean' 'clean' 'dirty' 'dirty' 'clean']]\n",
      "\n",
      "Final Bumpers\n",
      "{'north': True, 'south': True, 'west': True, 'east': False}\n",
      "\n",
      "10\n",
      "Final Coordinates of the robot 4 0\n"
     ]
    },
    {
     "data": {
      "text/plain": [
       "10"
      ]
     },
     "execution_count": 185,
     "metadata": {},
     "output_type": "execute_result"
    }
   ],
   "source": [
    "#Simple Reflex Agent\n",
    "obstacleenv(5, 10, verbose = True)"
   ]
  },
  {
   "cell_type": "markdown",
   "metadata": {},
   "source": [
    "The agent's programming is working as expected. The agent reacts to the obstacles by initiating its bumpers and chooses an aciton that doesn't run into the obstacles. If there is dirt, the agent detects it and sucks it. The bumpers are working as well, as the south bumper is reacting to the obstacle directly below it."
   ]
  },
  {
   "cell_type": "code",
   "execution_count": 187,
   "metadata": {},
   "outputs": [
    {
     "name": "stdout",
     "output_type": "stream",
     "text": [
      "Initial Space\n",
      "=============\n",
      "[['clean' 'obst' 'obst' 'dirty' 'clean']\n",
      " ['clean' 'dirty' 'clean' 'clean' 'dirty']\n",
      " ['obst' 'dirty' 'clean' 'clean' 'clean']\n",
      " ['obst' 'clean' 'obst' 'clean' 'clean']\n",
      " ['obst' 'clean' 'clean' 'dirty' 'obst']]\n",
      "\n",
      "step 0 - action: north\n",
      "step 1 - action: west\n",
      "step 2 - action: suck\n",
      "step 3 - action: west\n",
      "step 4 - action: north\n",
      "step 5 - action: south\n",
      "step 6 - action: east\n",
      "step 7 - action: south\n",
      "step 8 - action: suck\n",
      "step 9 - action: south\n",
      "\n",
      "Resulting Space\n",
      "===============\n",
      "[['clean' 'obst' 'obst' 'dirty' 'clean']\n",
      " ['clean' 'clean' 'clean' 'clean' 'dirty']\n",
      " ['obst' 'clean' 'clean' 'clean' 'clean']\n",
      " ['obst' 'clean' 'obst' 'clean' 'clean']\n",
      " ['obst' 'clean' 'clean' 'dirty' 'obst']]\n",
      "\n",
      "Final Bumpers\n",
      "{'north': False, 'south': False, 'west': True, 'east': True}\n",
      "\n",
      "10\n",
      "Final Coordinates of the robot 3 1\n"
     ]
    },
    {
     "data": {
      "text/plain": [
       "10"
      ]
     },
     "execution_count": 187,
     "metadata": {},
     "output_type": "execute_result"
    }
   ],
   "source": [
    "obstacleenv(5, 10, verbose = True)"
   ]
  },
  {
   "cell_type": "markdown",
   "metadata": {},
   "source": [
    "While this agent correctly reacts to the obstacles that trigger its bumpers by not running into obstacles, the hardcoded lawn-mower algorithm doesn't seem to work with this. The lawn mower algorithm and location discovery that are coded into the agent are messed up by the obstacles, as the agent uses its bumpers to determine its location. For example, when detecting a south bumper being triggered by an obstacle, it assumes it is in the southwest corner even though it is not. This happened in step 5, as for step 6 it chose to go east rather than continue its route south. "
   ]
  },
  {
   "cell_type": "markdown",
   "metadata": {},
   "source": [
    "Given the behavior of these agents with the obstacle environment, the simple reflex agent seems to work the best, as it reacts to the obstacles by not running into them, detects if there's dirt to suck, and doesn't get messed up by a hardcoded pathfinding algorithm like the model based agent."
   ]
  },
  {
   "cell_type": "markdown",
   "metadata": {
    "id": "TpW1M1xSCoPW"
   },
   "source": [
    "## More advanced implementation tasks\n",
    "\n",
    "* __Agent for and environment with obstacles:__ Implement an agent for an environment where the agent does not know how large the environment is (we assume it is rectangular), where it starts or where the obstacles are. An option would be to always move to the closest unchecked/uncleaned square (note that this is actually depth-first search).\n",
    "\n",
    "* __Utility-based agent:__ Change the environment for a $5 \\times 5$ room, so each square has a fixed probability of getting dirty again. For the implementation, we give the environment a 2-dimensional array of probabilities. The utility of a state is defined as the number of currently clean squares in the room. Implement a utility-based agent that maximizes the expected utility over one full charge which lasts for 100000 time steps. To do this, the agent needs to learn the probabilities with which different squares get dirty again. This is very tricky!"
   ]
  },
  {
   "cell_type": "code",
   "execution_count": null,
   "metadata": {
    "id": "S1Fph4XLCoPW"
   },
   "outputs": [],
   "source": [
    "# Your ideas/code"
   ]
  }
 ],
 "metadata": {
  "colab": {
   "provenance": []
  },
  "kernelspec": {
   "display_name": "Python 3 (ipykernel)",
   "language": "python",
   "name": "python3"
  },
  "language_info": {
   "codemirror_mode": {
    "name": "ipython",
    "version": 3
   },
   "file_extension": ".py",
   "mimetype": "text/x-python",
   "name": "python",
   "nbconvert_exporter": "python",
   "pygments_lexer": "ipython3",
   "version": "3.11.4"
  },
  "toc-autonumbering": false
 },
 "nbformat": 4,
 "nbformat_minor": 1
}
